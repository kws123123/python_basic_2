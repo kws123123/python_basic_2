{
 "cells": [
  {
   "cell_type": "code",
   "execution_count": 94,
   "id": "6f1dd710-0ee7-4ee9-9422-45f5d49aac14",
   "metadata": {},
   "outputs": [],
   "source": [
    "import numpy as np\n",
    "import pandas as pd\n",
    "import matplotlib.pyplot as plt\n",
    "import seaborn as sns\n",
    "plt.rcParams[\"font.family\"] = 'Malgun Gothic'"
   ]
  },
  {
   "cell_type": "code",
   "execution_count": 95,
   "id": "159eeb60-0c4d-4153-93d0-29517cfce052",
   "metadata": {},
   "outputs": [
    {
     "name": "stderr",
     "output_type": "stream",
     "text": [
      "  % Total    % Received % Xferd  Average Speed   Time    Time     Time  Current\n",
      "                                 Dload  Upload   Total   Spent    Left  Speed\n",
      "\n",
      "  0     0    0     0    0     0      0      0 --:--:-- --:--:-- --:--:--     0\n",
      "  0     0    0     0    0     0      0      0 --:--:-- --:--:-- --:--:--     0\n",
      "100 88955  100 88955    0     0   104k      0 --:--:-- --:--:-- --:--:--  104k\n"
     ]
    }
   ],
   "source": [
    "# 데이터 셋 가져오기\n",
    "!curl https://raw.githubusercontent.com/dongupak/BigDataAnalysis/main/weather.csv -o  weather.csv"
   ]
  },
  {
   "cell_type": "code",
   "execution_count": 96,
   "id": "7368681b-ea99-47ae-a633-f5e241ee48e4",
   "metadata": {},
   "outputs": [
    {
     "data": {
      "text/html": [
       "<div>\n",
       "<style scoped>\n",
       "    .dataframe tbody tr th:only-of-type {\n",
       "        vertical-align: middle;\n",
       "    }\n",
       "\n",
       "    .dataframe tbody tr th {\n",
       "        vertical-align: top;\n",
       "    }\n",
       "\n",
       "    .dataframe thead th {\n",
       "        text-align: right;\n",
       "    }\n",
       "</style>\n",
       "<table border=\"1\" class=\"dataframe\">\n",
       "  <thead>\n",
       "    <tr style=\"text-align: right;\">\n",
       "      <th></th>\n",
       "      <th>일시</th>\n",
       "      <th>평균 기온</th>\n",
       "      <th>최대 풍속</th>\n",
       "      <th>평균 풍속</th>\n",
       "    </tr>\n",
       "  </thead>\n",
       "  <tbody>\n",
       "    <tr>\n",
       "      <th>0</th>\n",
       "      <td>2010-08-01</td>\n",
       "      <td>28.7</td>\n",
       "      <td>8.3</td>\n",
       "      <td>3.4</td>\n",
       "    </tr>\n",
       "    <tr>\n",
       "      <th>1</th>\n",
       "      <td>2010-08-02</td>\n",
       "      <td>25.2</td>\n",
       "      <td>8.7</td>\n",
       "      <td>3.8</td>\n",
       "    </tr>\n",
       "    <tr>\n",
       "      <th>2</th>\n",
       "      <td>2010-08-03</td>\n",
       "      <td>22.1</td>\n",
       "      <td>6.3</td>\n",
       "      <td>2.9</td>\n",
       "    </tr>\n",
       "    <tr>\n",
       "      <th>3</th>\n",
       "      <td>2010-08-04</td>\n",
       "      <td>25.3</td>\n",
       "      <td>6.6</td>\n",
       "      <td>4.2</td>\n",
       "    </tr>\n",
       "    <tr>\n",
       "      <th>4</th>\n",
       "      <td>2010-08-05</td>\n",
       "      <td>27.2</td>\n",
       "      <td>9.1</td>\n",
       "      <td>5.6</td>\n",
       "    </tr>\n",
       "    <tr>\n",
       "      <th>...</th>\n",
       "      <td>...</td>\n",
       "      <td>...</td>\n",
       "      <td>...</td>\n",
       "      <td>...</td>\n",
       "    </tr>\n",
       "    <tr>\n",
       "      <th>3648</th>\n",
       "      <td>2020-07-27</td>\n",
       "      <td>22.1</td>\n",
       "      <td>4.2</td>\n",
       "      <td>1.7</td>\n",
       "    </tr>\n",
       "    <tr>\n",
       "      <th>3649</th>\n",
       "      <td>2020-07-28</td>\n",
       "      <td>21.9</td>\n",
       "      <td>4.5</td>\n",
       "      <td>1.6</td>\n",
       "    </tr>\n",
       "    <tr>\n",
       "      <th>3650</th>\n",
       "      <td>2020-07-29</td>\n",
       "      <td>21.6</td>\n",
       "      <td>3.2</td>\n",
       "      <td>1.0</td>\n",
       "    </tr>\n",
       "    <tr>\n",
       "      <th>3651</th>\n",
       "      <td>2020-07-30</td>\n",
       "      <td>22.9</td>\n",
       "      <td>9.7</td>\n",
       "      <td>2.4</td>\n",
       "    </tr>\n",
       "    <tr>\n",
       "      <th>3652</th>\n",
       "      <td>2020-07-31</td>\n",
       "      <td>25.7</td>\n",
       "      <td>4.8</td>\n",
       "      <td>2.5</td>\n",
       "    </tr>\n",
       "  </tbody>\n",
       "</table>\n",
       "<p>3653 rows × 4 columns</p>\n",
       "</div>"
      ],
      "text/plain": [
       "              일시  평균 기온  최대 풍속  평균 풍속\n",
       "0     2010-08-01   28.7    8.3    3.4\n",
       "1     2010-08-02   25.2    8.7    3.8\n",
       "2     2010-08-03   22.1    6.3    2.9\n",
       "3     2010-08-04   25.3    6.6    4.2\n",
       "4     2010-08-05   27.2    9.1    5.6\n",
       "...          ...    ...    ...    ...\n",
       "3648  2020-07-27   22.1    4.2    1.7\n",
       "3649  2020-07-28   21.9    4.5    1.6\n",
       "3650  2020-07-29   21.6    3.2    1.0\n",
       "3651  2020-07-30   22.9    9.7    2.4\n",
       "3652  2020-07-31   25.7    4.8    2.5\n",
       "\n",
       "[3653 rows x 4 columns]"
      ]
     },
     "execution_count": 96,
     "metadata": {},
     "output_type": "execute_result"
    }
   ],
   "source": [
    "# 1. 데이터프레임 탐색\n",
    "weather = pd.read_csv(\"weather.csv\")\n",
    "weather"
   ]
  },
  {
   "cell_type": "code",
   "execution_count": 97,
   "id": "bb3f24d5-0b2c-478d-932b-6809b87d3cd5",
   "metadata": {},
   "outputs": [],
   "source": [
    "# [2차 프로그래밍 문제]\n",
    "# 제출날짜: 2024-05-16까지 ipynb 소스자료 업로드하기\n",
    "# cyber캠퍼스와 깃허브에 올리기\n",
    "# 실습에서 사용한 weather.csv 파일을 판다스를 이용하여 데이터프레임을 만들어 다음과 같이 처리한다."
   ]
  },
  {
   "cell_type": "code",
   "execution_count": 98,
   "id": "1b4e70a7-ce2c-4c67-9550-e5cf5e047609",
   "metadata": {},
   "outputs": [],
   "source": [
    "## 1) 이 데이터셋의 앞 3개 행과 마지막 3개의 행을 화면에 출력하시오."
   ]
  },
  {
   "cell_type": "code",
   "execution_count": 99,
   "id": "14ee890f-2b18-4c28-af3b-35ac0e776ee7",
   "metadata": {},
   "outputs": [
    {
     "name": "stdout",
     "output_type": "stream",
     "text": [
      "           일시  평균 기온  최대 풍속  평균 풍속\n",
      "0  2010-08-01   28.7    8.3    3.4\n",
      "1  2010-08-02   25.2    8.7    3.8\n",
      "2  2010-08-03   22.1    6.3    2.9\n",
      "              일시  평균 기온  최대 풍속  평균 풍속\n",
      "3650  2020-07-29   21.6    3.2    1.0\n",
      "3651  2020-07-30   22.9    9.7    2.4\n",
      "3652  2020-07-31   25.7    4.8    2.5\n"
     ]
    }
   ],
   "source": [
    "print(weather.head(3))\n",
    "\n",
    "print(weather.tail(3))"
   ]
  },
  {
   "cell_type": "code",
   "execution_count": 100,
   "id": "3682f711-4845-455e-b918-60dc7468c965",
   "metadata": {},
   "outputs": [],
   "source": [
    "## 2) 2015년 6월 6일의 \"평균 기온\"과 \"풍속 정보\"를 출력하시오"
   ]
  },
  {
   "cell_type": "code",
   "execution_count": 101,
   "id": "020b97e6-593b-406a-b178-a574338fb52a",
   "metadata": {},
   "outputs": [
    {
     "data": {
      "text/html": [
       "<div>\n",
       "<style scoped>\n",
       "    .dataframe tbody tr th:only-of-type {\n",
       "        vertical-align: middle;\n",
       "    }\n",
       "\n",
       "    .dataframe tbody tr th {\n",
       "        vertical-align: top;\n",
       "    }\n",
       "\n",
       "    .dataframe thead th {\n",
       "        text-align: right;\n",
       "    }\n",
       "</style>\n",
       "<table border=\"1\" class=\"dataframe\">\n",
       "  <thead>\n",
       "    <tr style=\"text-align: right;\">\n",
       "      <th></th>\n",
       "      <th>평균 기온</th>\n",
       "      <th>최대 풍속</th>\n",
       "      <th>평균 풍속</th>\n",
       "    </tr>\n",
       "  </thead>\n",
       "  <tbody>\n",
       "    <tr>\n",
       "      <th>1770</th>\n",
       "      <td>16.6</td>\n",
       "      <td>4.4</td>\n",
       "      <td>1.9</td>\n",
       "    </tr>\n",
       "  </tbody>\n",
       "</table>\n",
       "</div>"
      ],
      "text/plain": [
       "      평균 기온  최대 풍속  평균 풍속\n",
       "1770   16.6    4.4    1.9"
      ]
     },
     "execution_count": 101,
     "metadata": {},
     "output_type": "execute_result"
    }
   ],
   "source": [
    "weather['일시'] = pd.to_datetime(weather['일시'])\n",
    "\n",
    "date66 = weather[weather['일시'] == '2015-06-06']\n",
    "result = date66[['평균 기온', '최대 풍속', '평균 풍속']]\n",
    "\n",
    "result"
   ]
  },
  {
   "cell_type": "code",
   "execution_count": 102,
   "id": "db1fbc04-3d36-4d96-a48c-68cd58bc6afe",
   "metadata": {},
   "outputs": [],
   "source": [
    "## 3) 가장 무더웠던 날짜을 추출해서 이 날의 기상 데이터을 출력하시오."
   ]
  },
  {
   "cell_type": "code",
   "execution_count": 103,
   "id": "8d11bbc2-ed0c-4770-a7be-7e0f898820a8",
   "metadata": {},
   "outputs": [
    {
     "name": "stdout",
     "output_type": "stream",
     "text": [
      "             일시  평균 기온  최대 풍속  평균 풍속\n",
      "1103 2013-08-08   31.3    7.8    4.6\n"
     ]
    }
   ],
   "source": [
    "weather['일시'] = pd.to_datetime(weather['일시'])\n",
    "hottest = weather[weather['평균 기온'] == weather['평균 기온'].max()]\n",
    "hottest_data = weather[weather['일시'] == hottest['일시'].values[0]]\n",
    "\n",
    "print(hottest_data)"
   ]
  },
  {
   "cell_type": "code",
   "execution_count": 104,
   "id": "00bc27b6-262f-4597-bd5c-b810e098d16e",
   "metadata": {},
   "outputs": [],
   "source": [
    "## 4) \"평균 기온\"이 30도를 넘는 날짜들을 찾아, 이 날의 기상 데이터를 출력하시오."
   ]
  },
  {
   "cell_type": "code",
   "execution_count": 105,
   "id": "8d58e8e3-9c36-4e7a-a1e0-685c870cb4e8",
   "metadata": {},
   "outputs": [
    {
     "name": "stdout",
     "output_type": "stream",
     "text": [
      "             일시  평균 기온  최대 풍속  평균 풍속\n",
      "1103 2013-08-08   31.3    7.8    4.6\n",
      "1104 2013-08-09   30.6    9.9    6.4\n",
      "1105 2013-08-10   30.6    7.4    3.8\n",
      "2913 2018-07-23   30.5    6.5    1.6\n",
      "2925 2018-08-04   30.3    5.8    3.0\n"
     ]
    }
   ],
   "source": [
    "weather['일시'] = pd.to_datetime(weather['일시'])\n",
    "hot30 = weather[weather['평균 기온'] > 30]\n",
    "print(hot30)"
   ]
  },
  {
   "cell_type": "code",
   "execution_count": 106,
   "id": "55aa63c6-921d-4f23-8333-860360e5ec53",
   "metadata": {},
   "outputs": [],
   "source": [
    "## 5) 연도별 \"평균 기온\"의 평균에 대한 추이를 선 그래프로 그리시오."
   ]
  },
  {
   "cell_type": "code",
   "execution_count": 107,
   "id": "b1cc7733-3682-4751-9a45-cf3d46f0e908",
   "metadata": {},
   "outputs": [
    {
     "data": {
      "image/png": "[encoded data removed]",
      "text/plain": [
       "<Figure size 640x480 with 1 Axes>"
      ]
     },
     "metadata": {},
     "output_type": "display_data"
    }
   ],
   "source": [
    "weather['연도'] = pd.to_datetime(weather['일시']).dt.year\n",
    "year_avg = weather.groupby('연도')['평균 기온'].mean()\n",
    "\n",
    "plt.plot(year_avg.index, year_avg.values, color='red')\n",
    "plt.title('연도별 평균 기온의 평균에 대한 추이')\n",
    "plt.xlabel('연도')\n",
    "plt.ylabel('평균 기온')\n",
    "plt.show()\n"
   ]
  },
  {
   "cell_type": "code",
   "execution_count": 108,
   "id": "7b977304-a181-4129-b641-354044e55b7a",
   "metadata": {},
   "outputs": [],
   "source": [
    "## 6) 연도별 \"최대 풍속\"의 평균을 막대 그래프로 그리시오."
   ]
  },
  {
   "cell_type": "code",
   "execution_count": 109,
   "id": "0dfb0588-f36e-48f0-b004-d86671728e96",
   "metadata": {},
   "outputs": [
    {
     "data": {
      "image/png": "[encoded data removed]",
      "text/plain": [
       "<Figure size 640x480 with 1 Axes>"
      ]
     },
     "metadata": {},
     "output_type": "display_data"
    }
   ],
   "source": [
    "weather['연도'] = pd.to_datetime(weather['일시']).dt.year\n",
    "maxwind_avg = weather.groupby('연도')['최대 풍속'].mean()\n",
    "\n",
    "plt.bar(maxwind_avg.index, maxwind_avg.values, color='red')\n",
    "plt.title('연도별 최대 풍속의 평균')\n",
    "plt.xlabel('연도')\n",
    "plt.ylabel('최대 풍속')\n",
    "plt.show()"
   ]
  },
  {
   "cell_type": "code",
   "execution_count": 110,
   "id": "7825783d-c72f-4949-81b6-bbe826ef4a43",
   "metadata": {},
   "outputs": [],
   "source": [
    "## 7) 연도별 \"평균 풍속\"의 합을 히스토그램 그래프로 그리시오"
   ]
  },
  {
   "cell_type": "code",
   "execution_count": 111,
   "id": "c98f63c5-038c-4d12-968b-e88abf121a50",
   "metadata": {},
   "outputs": [
    {
     "data": {
      "image/png": "[encoded data removed]",
      "text/plain": [
       "<Figure size 1500x500 with 1 Axes>"
      ]
     },
     "metadata": {},
     "output_type": "display_data"
    }
   ],
   "source": [
    "weather['연도'] = pd.to_datetime(weather['일시']).dt.year\n",
    "\n",
    "avgwind_sum = weather.groupby('연도')['평균 풍속'].sum()\n",
    "\n",
    "fig, axs = plt.subplots(1, figsize=(15, 5))\n",
    "axs.hist(avgwind_sum, bins=10, color='red')\n",
    "axs.set_title('연도별 평균 풍속의 합 히스토그램')\n",
    "axs.set_xlabel('평균 풍속의 합')\n",
    "axs.set_ylabel('빈도수')\n",
    "plt.show()"
   ]
  },
  {
   "cell_type": "code",
   "execution_count": 112,
   "id": "461da983-1763-4e7c-adba-5242de11a5c3",
   "metadata": {},
   "outputs": [],
   "source": [
    "## 8) 2015년과 2016년의 \"평균 기온\"의 평균을 비교하여 어느 해가 더 더웠는지 출력하시오."
   ]
  },
  {
   "cell_type": "code",
   "execution_count": 113,
   "id": "dfcd7911-2ed2-425d-ae93-55ce380877cf",
   "metadata": {},
   "outputs": [
    {
     "name": "stdout",
     "output_type": "stream",
     "text": [
      "2016년이 더 더웠습니다\n"
     ]
    }
   ],
   "source": [
    "t_avg2015 = weather[weather['연도'] == 2015]['평균 기온'].mean()\n",
    "t_avg2016 = weather[weather['연도'] == 2016]['평균 기온'].mean()\n",
    "\n",
    "if ( t_avg2015 > t_avg2016 ) :\n",
    "    print('2015년이 더 더웠습니다')\n",
    "else:\n",
    "    print('2016년이 더 더웠습니다')"
   ]
  },
  {
   "cell_type": "code",
   "execution_count": 114,
   "id": "ee092992-f969-43bb-bc60-16a1ba89240b",
   "metadata": {},
   "outputs": [],
   "source": [
    "## 9) 월별 \"평균 기온\" 의 합이 가장 적은 달과 가장 많은 달을 출력하시오."
   ]
  },
  {
   "cell_type": "code",
   "execution_count": 115,
   "id": "671dc6bb-8252-4563-980a-ebb47759deca",
   "metadata": {},
   "outputs": [
    {
     "name": "stdout",
     "output_type": "stream",
     "text": [
      "최대 달 :  8\n",
      "최소 달 :  1\n"
     ]
    }
   ],
   "source": [
    "weather['연도'] = pd.to_datetime(weather['일시']).dt.year\n",
    "weather['월'] = pd.to_datetime(weather['일시']).dt.month\n",
    "\n",
    "month_sum = weather.groupby('월')['평균 기온'].sum()\n",
    "\n",
    "max_month = month_sum[month_sum == month_sum.max()].index[0]\n",
    "min_month = month_sum[month_sum == month_sum.min()].index[0]\n",
    "\n",
    "print('최대 달 : ', max_month)\n",
    "print('최소 달 : ', min_month)"
   ]
  },
  {
   "cell_type": "code",
   "execution_count": 116,
   "id": "1b60ed86-bb73-4441-aace-d2d07b9f47cf",
   "metadata": {},
   "outputs": [],
   "source": [
    "## 10) 연도별 \"최대 풍속\"의 평균이 가장 큰 연도을 출력하시오."
   ]
  },
  {
   "cell_type": "code",
   "execution_count": 117,
   "id": "c8405174-062c-4104-a7b5-422a813c2b77",
   "metadata": {},
   "outputs": [
    {
     "name": "stdout",
     "output_type": "stream",
     "text": [
      "최대 풍속이 가장 큰 연도 :  2011\n"
     ]
    }
   ],
   "source": [
    "weather['연도'] = pd.to_datetime(weather['일시']).dt.year\n",
    "avgwind_max = weather.groupby('연도')['최대 풍속'].mean()\n",
    "\n",
    "max_year = avgwind_max[avgwind_max == avgwind_max.max()].index[0]\n",
    "\n",
    "print(\"최대 풍속이 가장 큰 연도 : \", max_year)"
   ]
  },
  {
   "cell_type": "code",
   "execution_count": null,
   "id": "ff7402b7-e2ea-42c4-ba2a-dbdd082ee7fd",
   "metadata": {},
   "outputs": [],
   "source": []
  }
 ],
 "metadata": {
  "kernelspec": {
   "display_name": "Python 3 (ipykernel)",
   "language": "python",
   "name": "python3"
  },
  "language_info": {
   "codemirror_mode": {
    "name": "ipython",
    "version": 3
   },
   "file_extension": ".py",
   "mimetype": "text/x-python",
   "name": "python",
   "nbconvert_exporter": "python",
   "pygments_lexer": "ipython3",
   "version": "3.11.0"
  }
 },
 "nbformat": 4,
 "nbformat_minor": 5
}
